{
 "cells": [
  {
   "cell_type": "code",
   "execution_count": 12,
   "metadata": {},
   "outputs": [],
   "source": [
    "import os.path\n",
    "\n",
    "from google.auth.transport.requests import Request\n",
    "from google.oauth2.credentials import Credentials\n",
    "from google_auth_oauthlib.flow import InstalledAppFlow\n",
    "from googleapiclient.discovery import build\n",
    "from googleapiclient.errors import HttpError\n",
    "\n",
    "SCOPES = [\"https://www.googleapis.com/auth/spreadsheets.readonly\"]\n",
    "\n",
    "SAMPLE_SPREADSHEET_ID = \"1gNMdlnevrfawztpJdujWn54WxohZB9pLD5KG5EapImM\"\n",
    "SAMPLE_RANGE_NAME = 'Sheet1!A1:D10' \n",
    "\n",
    "\n",
    "def fetch_sheet():\n",
    "\n",
    "  creds = None\n",
    "\n",
    "  if os.path.exists(\"token.json\"):\n",
    "    creds = Credentials.from_authorized_user_file(\"token.json\", SCOPES)\n",
    "\n",
    "  if not creds or not creds.valid:\n",
    "    if creds and creds.expired and creds.refresh_token:\n",
    "      creds.refresh(Request())\n",
    "    else:\n",
    "      flow = InstalledAppFlow.from_client_secrets_file(\n",
    "          \"../credentials.json\", SCOPES\n",
    "      )\n",
    "      creds = flow.run_local_server(port=0)\n",
    "    # Save the credentials for the next run\n",
    "    with open(\"token.json\", \"w\") as token:\n",
    "      token.write(creds.to_json())\n",
    "\n",
    "  try:\n",
    "    service = build(\"sheets\", \"v4\", credentials=creds)\n",
    "\n",
    "    sheet = service.spreadsheets()\n",
    "    result = (\n",
    "        sheet.values()\n",
    "        .get(spreadsheetId=SAMPLE_SPREADSHEET_ID, range=SAMPLE_RANGE_NAME)\n",
    "        .execute()\n",
    "    )\n",
    "    values = result.get(\"values\", [])\n",
    "            \n",
    "    if not values:\n",
    "      print(\"No data found.\")\n",
    "      return\n",
    "  \n",
    "    def print_claims_table(claims):\n",
    "        col_widths = [max(len(str(item)) for item in col) for col in zip(*claims)]\n",
    "        \n",
    "        for row in claims:\n",
    "            print(\" | \".join(str(item).ljust(width) for item, width in zip(row, col_widths)))\n",
    "            \n",
    "    print_claims_table(values)\n",
    "    \n",
    "  except HttpError as err:\n",
    "    print(err)"
   ]
  },
  {
   "cell_type": "code",
   "execution_count": 13,
   "metadata": {},
   "outputs": [
    {
     "name": "stdout",
     "output_type": "stream",
     "text": [
      "Claim ID | Department | Claimant Name | Date of Claim\n",
      "1        | Publicity  | John Doe      | 01/09/2024   \n",
      "2        | Admin      | Jane Smith    | 02/09/2024   \n",
      "3        | Logistics  | Alex Johnson  | 03/09/2024   \n",
      "4        | First Aid  | Emily Clark   | 03/09/2024   \n"
     ]
    }
   ],
   "source": [
    "fetch_sheet()"
   ]
  }
 ],
 "metadata": {
  "kernelspec": {
   "display_name": "venv",
   "language": "python",
   "name": "python3"
  },
  "language_info": {
   "codemirror_mode": {
    "name": "ipython",
    "version": 3
   },
   "file_extension": ".py",
   "mimetype": "text/x-python",
   "name": "python",
   "nbconvert_exporter": "python",
   "pygments_lexer": "ipython3",
   "version": "3.10.0"
  }
 },
 "nbformat": 4,
 "nbformat_minor": 2
}
