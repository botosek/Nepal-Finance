{
 "cells": [
  {
   "cell_type": "code",
   "execution_count": null,
   "metadata": {},
   "outputs": [],
   "source": [
    "from telegram import Update\n",
    "from telegram.ext import Updater, CommandHandler, CallbackContext\n",
    "\n",
    "# Function to start the bot\n",
    "def start(update: Update, context: CallbackContext):\n",
    "    update.message.reply_text(\"Hello! Use /fetch to get the data from Google Sheets.\")\n",
    "\n",
    "# Function to fetch data from Google Sheets and send it via the bot\n",
    "def fetch_data(update: Update, context: CallbackContext):\n",
    "    # Your Google Sheet ID\n",
    "    SPREADSHEET_ID = 'your_spreadsheet_id_here'  # Replace with your Google Sheet ID\n",
    "    RANGE_NAME = 'Sheet1!A1:D10'  # Adjust range as needed\n",
    "    \n",
    "    # Authenticate and fetch data\n",
    "    service = authenticate_google_sheets()\n",
    "    data = get_sheet_data(service, SPREADSHEET_ID, RANGE_NAME)\n",
    "    \n",
    "    if data:\n",
    "        message = \"\"\n",
    "        for row in data:\n",
    "            message += ', '.join(row) + '\\n'\n",
    "        update.message.reply_text(message)\n",
    "    else:\n",
    "        update.message.reply_text(\"No data found.\")\n",
    "\n",
    "# Main function to start the bot\n",
    "def main():\n",
    "    # Your bot token from BotFather\n",
    "    bot_token = 'your_bot_token_here'\n",
    "    \n",
    "    updater = Updater(token=bot_token, use_context=True)\n",
    "    dispatcher = updater.dispatcher\n",
    "    \n",
    "    # Define commands\n",
    "    dispatcher.add_handler(CommandHandler(\"start\", start))\n",
    "    dispatcher.add_handler(CommandHandler(\"fetch\", fetch_data))\n",
    "    \n",
    "    # Start the bot\n",
    "    updater.start_polling()\n",
    "    updater.idle()\n",
    "\n",
    "if __name__ == '__main__':\n",
    "    main()\n"
   ]
  }
 ],
 "metadata": {
  "kernelspec": {
   "display_name": "venv",
   "language": "python",
   "name": "python3"
  },
  "language_info": {
   "name": "python",
   "version": "3.10.0"
  }
 },
 "nbformat": 4,
 "nbformat_minor": 2
}
