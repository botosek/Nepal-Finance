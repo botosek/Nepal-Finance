{
 "cells": [
  {
   "cell_type": "code",
   "execution_count": 26,
   "metadata": {},
   "outputs": [
    {
     "ename": "IndexError",
     "evalue": "index 0 is out of bounds for axis 0 with size 0",
     "output_type": "error",
     "traceback": [
      "\u001b[0;31m---------------------------------------------------------------------------\u001b[0m",
      "\u001b[0;31mIndexError\u001b[0m                                Traceback (most recent call last)",
      "Cell \u001b[0;32mIn[26], line 72\u001b[0m\n\u001b[1;32m     69\u001b[0m     \u001b[38;5;28;01mreturn\u001b[39;00m status\n\u001b[1;32m     71\u001b[0m data \u001b[38;5;241m=\u001b[39m fetch_sheet()\n\u001b[0;32m---> 72\u001b[0m status \u001b[38;5;241m=\u001b[39m \u001b[43mget_claim_status\u001b[49m\u001b[43m(\u001b[49m\u001b[43mdata\u001b[49m\u001b[43m,\u001b[49m\u001b[43m \u001b[49m\u001b[38;5;28;43mid\u001b[39;49m\u001b[38;5;241;43m=\u001b[39;49m\u001b[38;5;124;43m\"\u001b[39;49m\u001b[38;5;124;43m10\u001b[39;49m\u001b[38;5;124;43m\"\u001b[39;49m\u001b[43m)\u001b[49m\n",
      "Cell \u001b[0;32mIn[26], line 68\u001b[0m, in \u001b[0;36mget_claim_status\u001b[0;34m(df, id)\u001b[0m\n\u001b[1;32m     67\u001b[0m \u001b[38;5;28;01mdef\u001b[39;00m \u001b[38;5;21mget_claim_status\u001b[39m(df, \u001b[38;5;28mid\u001b[39m):\n\u001b[0;32m---> 68\u001b[0m     status \u001b[38;5;241m=\u001b[39m \u001b[43mdf\u001b[49m\u001b[43m[\u001b[49m\u001b[43mdf\u001b[49m\u001b[43m[\u001b[49m\u001b[38;5;124;43m\"\u001b[39;49m\u001b[38;5;124;43mClaim ID\u001b[39;49m\u001b[38;5;124;43m\"\u001b[39;49m\u001b[43m]\u001b[49m\u001b[43m \u001b[49m\u001b[38;5;241;43m==\u001b[39;49m\u001b[43m \u001b[49m\u001b[38;5;28;43mid\u001b[39;49m\u001b[43m]\u001b[49m\u001b[43m[\u001b[49m\u001b[38;5;124;43m\"\u001b[39;49m\u001b[38;5;124;43mApproval Status\u001b[39;49m\u001b[38;5;124;43m\"\u001b[39;49m\u001b[43m]\u001b[49m\u001b[38;5;241;43m.\u001b[39;49m\u001b[43mvalues\u001b[49m\u001b[43m[\u001b[49m\u001b[38;5;241;43m0\u001b[39;49m\u001b[43m]\u001b[49m\n\u001b[1;32m     69\u001b[0m     \u001b[38;5;28;01mreturn\u001b[39;00m status\n",
      "\u001b[0;31mIndexError\u001b[0m: index 0 is out of bounds for axis 0 with size 0"
     ]
    }
   ],
   "source": [
    "import os.path\n",
    "import pandas as pd\n",
    "\n",
    "from google.auth.transport.requests import Request\n",
    "from google.oauth2.credentials import Credentials\n",
    "from google_auth_oauthlib.flow import InstalledAppFlow\n",
    "from googleapiclient.discovery import build\n",
    "from googleapiclient.errors import HttpError\n",
    "\n",
    "SCOPES = [\"https://www.googleapis.com/auth/spreadsheets.readonly\"]\n",
    "\n",
    "SAMPLE_SPREADSHEET_ID = \"1gNMdlnevrfawztpJdujWn54WxohZB9pLD5KG5EapImM\"\n",
    "SAMPLE_RANGE_NAME = 'Sheet1!A1:M10' \n",
    "\n",
    "CREDENTIALS_PATH = \"../credentials.json\"\n",
    "TOKEN_PATH = \"../token.json\"\n",
    "\n",
    "\n",
    "def fetch_sheet():\n",
    "    '''\n",
    "    Fetches data from the excel sheet and stores returns it as a pandas dataframe\n",
    "    '''\n",
    "    \n",
    "    creds = None\n",
    "\n",
    "    # Check if token.json exists and load it if it does\n",
    "    if os.path.exists(TOKEN_PATH):\n",
    "        creds = Credentials.from_authorized_user_file(TOKEN_PATH, SCOPES)\n",
    "\n",
    "    # If no valid credentials are available, log in again\n",
    "    if not creds or not creds.valid:\n",
    "        if creds and creds.expired and creds.refresh_token:\n",
    "            creds.refresh(Request())  # Refresh the token if it’s expired\n",
    "        else:\n",
    "            # Log in and get new credentials\n",
    "            flow = InstalledAppFlow.from_client_secrets_file(CREDENTIALS_PATH, SCOPES)\n",
    "            creds = flow.run_local_server(port=0)\n",
    "        \n",
    "        # Save the credentials for future runs\n",
    "        with open(TOKEN_PATH, \"w\") as token:\n",
    "            token.write(creds.to_json())\n",
    "\n",
    "    try:\n",
    "        # Call the Sheets API\n",
    "        service = build(\"sheets\", \"v4\", credentials=creds)\n",
    "        sheet = service.spreadsheets()\n",
    "        result = (\n",
    "            sheet.values()\n",
    "            .get(spreadsheetId=SAMPLE_SPREADSHEET_ID, range=SAMPLE_RANGE_NAME)\n",
    "            .execute()\n",
    "        )\n",
    "        # retrieve the sheet data\n",
    "        sheet = result.get(\"values\", [])\n",
    "        \n",
    "        # Check if there's data in the sheet\n",
    "        if not sheet:\n",
    "            return \"No data found in the Google Sheet.\"\n",
    "\n",
    "        # Here the sheet is a pandas dataframe\n",
    "        df = pd.DataFrame(sheet[1:], columns=sheet[0])\n",
    "        \n",
    "        return df\n",
    "\n",
    "    except HttpError as err:\n",
    "        return f\"An error occurred: {err}\"\n",
    "\n",
    "def get_claim_status(df, id):\n",
    "    try:\n",
    "        status_msg = df[df[\"Claim ID\"] == id][\"Approval Status\"].values[0]\n",
    "    except IndexError:\n",
    "        return {\"error\": True, \"status_msg\": \"Please Enter a correct index\"}\n",
    "    \n",
    "    return {\"error\": False, \"status_msg\": status_msg}\n",
    "\n",
    "data = fetch_sheet()\n",
    "status = get_claim_status(data, id=\"10\")"
   ]
  },
  {
   "cell_type": "code",
   "execution_count": 24,
   "metadata": {},
   "outputs": [
    {
     "data": {
      "text/plain": [
       "'Approved'"
      ]
     },
     "execution_count": 24,
     "metadata": {},
     "output_type": "execute_result"
    }
   ],
   "source": [
    "status"
   ]
  },
  {
   "cell_type": "code",
   "execution_count": null,
   "metadata": {},
   "outputs": [],
   "source": []
  }
 ],
 "metadata": {
  "kernelspec": {
   "display_name": "venv",
   "language": "python",
   "name": "python3"
  },
  "language_info": {
   "codemirror_mode": {
    "name": "ipython",
    "version": 3
   },
   "file_extension": ".py",
   "mimetype": "text/x-python",
   "name": "python",
   "nbconvert_exporter": "python",
   "pygments_lexer": "ipython3",
   "version": "3.10.0"
  }
 },
 "nbformat": 4,
 "nbformat_minor": 2
}
